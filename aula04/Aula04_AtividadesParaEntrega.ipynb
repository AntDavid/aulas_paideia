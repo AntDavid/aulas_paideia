{
  "cells": [
    {
      "cell_type": "markdown",
      "metadata": {
        "id": "7NC-gG1Wrt5R"
      },
      "source": [
        "AULA 4 - LÓGICA DE PROGRAMAÇÃO\n",
        "\n",
        "M1 PAIDEIA 2024\n",
        "\n",
        "Atividades para Entrega\n",
        "\n",
        "Profa. ALESSANDRA TOYAMA\n",
        "\n",
        "Aluno Antonio David Santana\n",
        "\n",
        "Data de Entrega: 12/06/2024\n"
      ]
    },
    {
      "cell_type": "markdown",
      "metadata": {
        "id": "elAuOTc7ivnM"
      },
      "source": [
        "##### Nesta aula revisamos os conceitos básicos com uso de operadores em python.\n",
        "\n",
        "##### **1)** Execute os itens a seguir no código em python e dê o resultado de A, B, C, D, E\n",
        "\n",
        "* A = 6*(3+2)  \n",
        "* B = 2+(6*(3+2))  \n",
        "* C = ((3+(8/2))*4)+(3*2)  \n",
        "* D = 3+(16-2)/(2*(9-2))  \n",
        "* E = ((-12)*(-4))+(3*(-4))"
      ]
    },
    {
      "cell_type": "code",
      "execution_count": 9,
      "metadata": {},
      "outputs": [
        {
          "name": "stdout",
          "output_type": "stream",
          "text": [
            "O resultado de 6*(3+2) é = 30\n",
            "O resultado de 2+(6*(3+2)) é = 32\n",
            "O resultado de ((3+(8/2))*4)+(3*2) é = 34.0\n",
            "O resultado de 3+(16-2)/(2*(9-2)) é = 4.0\n",
            "O resultado de ((-12)*(-4))+(3*(-4)) é = 36\n"
          ]
        }
      ],
      "source": [
        "def calcula_expressoes():\n",
        "    #Cálculo de A\n",
        "    A = 6*(3+2)\n",
        "    print(f'O resultado de 6*(3+2) é = {A}')\n",
        "\n",
        "    #Cálculo de B\n",
        "    B = 2+(6*(3+2))\n",
        "    print(f'O resultado de 2+(6*(3+2)) é = {B}')\n",
        "\n",
        "    #Cálculo de C\n",
        "    C = ((3+(8/2))*4)+(3*2)\n",
        "    print(f'O resultado de ((3+(8/2))*4)+(3*2) é = {C}')\n",
        "\n",
        "    #Cálculo de D\n",
        "    D = 3+(16-2)/(2*(9-2))\n",
        "    print(f'O resultado de 3+(16-2)/(2*(9-2)) é = {D}')\n",
        "\n",
        "    #Cálculo de E\n",
        "    E = ((-12)*(-4))+(3*(-4))\n",
        "    print(f'O resultado de ((-12)*(-4))+(3*(-4)) é = {E}')\n",
        "\n",
        "\n",
        "if __name__ == \"__main__\":\n",
        "    calcula_expressoes()"
      ]
    },
    {
      "cell_type": "markdown",
      "metadata": {
        "id": "Xe6qKGFIjU03"
      },
      "source": [
        "##### **2)** Faça um programa em Python seguindo os seguintes passos:\n",
        "\n",
        "1. Leia o seu nome e sobrenome\n",
        "2. Exiba o seu nome completo\n",
        "3. Leia a sua cidade e estado\n",
        "4. Exiba a sua cidade e estado\n",
        "5. Digite o seu peso e altura\n",
        "6. Calcule o IMC. Se você não sabe como calcular, veja na figura:\n",
        "\n",
        "```\n",
        "IMC =        Peso(Kg)\n",
        "      ---------------------\n",
        "       Altura * Altura (m2)\n",
        "```\n",
        "Após os cálculos, valide seu IMC:\n",
        "\n",
        "[Valide seu IMC clicando aqui!](https://www.programasaudefacil.com.br/calculadora-de-imc)\n"
      ]
    },
    {
      "cell_type": "code",
      "execution_count": 2,
      "metadata": {},
      "outputs": [],
      "source": [
        "def cadastra_usuario():\n",
        "    nome = input('Digite seu nome: ')\n",
        "    sobrenome = input('Digite seu sobrenome: ')\n",
        "    cidade = input('Digite sua cidade: ')\n",
        "    estado = input('Digite a sigla do seu estado: ')\n",
        "    peso = None\n",
        "    altura = None\n",
        "    \n",
        "    while True:\n",
        "        try:\n",
        "            peso = float(input('Digite seu peso: '))\n",
        "            break\n",
        "        \n",
        "        except ValueError:\n",
        "            print('Digite um número válido')\n",
        "\n",
        "    while True:\n",
        "        try:\n",
        "            altura = float(input('Digite sua altura: '))\n",
        "            break\n",
        "        except ValueError:\n",
        "            print('Digite um número válido')\n",
        "            \n",
        "    return {'nome': nome,\n",
        "            'sobrenome': sobrenome, \n",
        "            'peso': peso, \n",
        "            'altura': altura, \n",
        "            'cidade': cidade, \n",
        "            'estado': estado}\n",
        "\n",
        "\n",
        "def calcula_imc(usuario):\n",
        "    peso = usuario['peso']\n",
        "    altura = usuario['altura']\n",
        "    imc = peso / (altura ** 2)\n",
        "    print (f'Usuário: {usuario[\"nome\"]} {usuario[\"sobrenome\"]}, residente de {usuario[\"cidade\"]}-{usuario[\"estado\"]} tem o IMC de: {imc:.2f}')\n",
        "    return imc\n",
        "\n",
        "def classifica_imc(imc):\n",
        "    if (imc < 16.9):\n",
        "        print('Muito abaixo do peso')\n",
        "    elif (17 <= imc < 18.4):\n",
        "        print('Abaixo do peso')\n",
        "    elif (18.5 <= imc < 24.9):\n",
        "        print('Peso Normal')\n",
        "    elif (25 <= imc < 29.9):\n",
        "        print('Acima do peso')\n",
        "    elif (30 <= imc < 34.9):\n",
        "        print('Obesidade grau 1')\n",
        "    elif (35 <= imc < 40):\n",
        "        print('Obesidade grau 2')\n",
        "    else:\n",
        "        print('Obesidade grau 3')\n",
        "    return\n",
        "\n",
        "if __name__ == \"__main__\":\n",
        "    usuario = cadastra_usuario()\n",
        "    imc = calcula_imc(usuario)\n",
        "    classifica_imc(imc)"
      ]
    },
    {
      "cell_type": "markdown",
      "metadata": {
        "id": "k97Zrfobmmxa"
      },
      "source": [
        "##### **3**) Considere as variáveis de sua escolha, responda:\n",
        "\n",
        "```\n",
        "a = int(input())\n",
        "b = int(input())\n",
        "c = int(input())\n",
        "d = int(input())\n",
        "\n",
        "Qual o valor da condição 1?\n",
        "condicao1 = (a > b) and (c < d) and ( a > d)\n",
        "\n",
        "Qual o valor da condição 2?\n",
        "condicao2 = ((a + b) != c) or (c < d)\n",
        "\n",
        "Qual o valor da condição 3?\n",
        "condicao3 = not (c > d)\n",
        "```\n",
        "\n",
        "A saida com o resultado deve ser entregue nesta atividade.\n"
      ]
    },
    {
      "cell_type": "code",
      "execution_count": 5,
      "metadata": {},
      "outputs": [
        {
          "name": "stdout",
          "output_type": "stream",
          "text": [
            "Condição 1: False\n",
            "Condição 2: True\n",
            "Condição 3: True\n"
          ]
        }
      ],
      "source": [
        "a = 10 \n",
        "b = 8\n",
        "c = 4\n",
        "d = 12\n",
        "\n",
        "condicao1 = (a > b) and (c < d) and ( a > d)\n",
        "condicao2 = ((a + b) != c) or (c < d)\n",
        "condicao3 = not (c > d)\n",
        "\n",
        "print(f'Condição 1: {condicao1}')\n",
        "print(f'Condição 2: {condicao2}')\n",
        "print(f'Condição 3: {condicao3}')"
      ]
    },
    {
      "cell_type": "markdown",
      "metadata": {
        "id": "2O5M-eqjn288"
      },
      "source": [
        "##### **4)** Considere o programa a seguir e complemente de forma que exiba o resultado final com preço total e com desconto formatado com 2 casas decimais."
      ]
    },
    {
      "cell_type": "code",
      "execution_count": 6,
      "metadata": {
        "id": "VaGnZRRUo6AF"
      },
      "outputs": [
        {
          "name": "stdout",
          "output_type": "stream",
          "text": [
            "Preço total: R$ 2000.00 e preço com desconto: R$ 1600.00\n"
          ]
        }
      ],
      "source": [
        "quantidade = int(input(\"Digite a quantidade de itens comprados: \"))\n",
        "\n",
        "if quantidade >= 100:\n",
        "    desconto = 0.20\n",
        "elif quantidade >= 50:\n",
        "    desconto = 0.10\n",
        "elif quantidade >= 20:\n",
        "    desconto = 0.05\n",
        "else:\n",
        "    desconto = 0.0\n",
        "\n",
        "preco_unitario = 20.0\n",
        "preco_total = quantidade * preco_unitario\n",
        "preco_com_desconto = preco_total * (1 - desconto)\n",
        "\n",
        "print(f'Preço total: R$ {preco_total:.2f} e preço com desconto: R$ {preco_com_desconto:.2f}')\n",
        "\n"
      ]
    }
  ],
  "metadata": {
    "colab": {
      "provenance": []
    },
    "kernelspec": {
      "display_name": "Python 3",
      "name": "python3"
    },
    "language_info": {
      "codemirror_mode": {
        "name": "ipython",
        "version": 3
      },
      "file_extension": ".py",
      "mimetype": "text/x-python",
      "name": "python",
      "nbconvert_exporter": "python",
      "pygments_lexer": "ipython3",
      "version": "3.12.0"
    }
  },
  "nbformat": 4,
  "nbformat_minor": 0
}
