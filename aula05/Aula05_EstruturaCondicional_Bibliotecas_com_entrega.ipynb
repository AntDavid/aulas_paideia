{
  "cells": [
    {
      "cell_type": "markdown",
      "metadata": {
        "id": "8AIxWp-Sv0ob"
      },
      "source": [
        "AULA 5 - LÓGICA DE PROGRAMAÇÃO\n",
        "\n",
        "M1 PAIDEIA 2024\n",
        "\n",
        "ESTRUTURAS CONDICIONAIS E USO DE BIBLIOTECAS\n",
        "\n",
        "ALUNO: Antonio David Santana\n",
        "\n",
        "Profa. ALESSANDRA TOYAMA\n",
        "\n",
        "DATA: 10/06/2024"
      ]
    },
    {
      "cell_type": "markdown",
      "metadata": {
        "id": "kM6f1GLnZMDz"
      },
      "source": [
        "\n",
        "**Sintaxe - Estrutura Condicional**\n",
        "\n",
        "```\n",
        "if condição:\n",
        "    # bloco de código a ser executado se a condição for verdadeira\n",
        "elif outra_condição:\n",
        "    # bloco de código a ser executado se outra_condição for verdadeira\n",
        "else:\n",
        "    # bloco de código a ser executado se nenhuma das condições anteriores for verdadeira\n",
        "\n",
        "```\n",
        "\n"
      ]
    },
    {
      "cell_type": "markdown",
      "metadata": {
        "id": "U9iY4KDeZdGA"
      },
      "source": [
        "**Exemplo**"
      ]
    },
    {
      "cell_type": "code",
      "execution_count": null,
      "metadata": {
        "colab": {
          "base_uri": "https://localhost:8080/"
        },
        "id": "stij4WeXZLFF",
        "outputId": "9ae50fed-6702-4af4-a8c4-e5914b95b37d"
      },
      "outputs": [
        {
          "name": "stdout",
          "output_type": "stream",
          "text": [
            "Digite a sua idade: 15\n",
            "Você é menor de idade.\n"
          ]
        }
      ],
      "source": [
        "idade = int(input(\"Digite a sua idade: \"))\n",
        "\n",
        "# Estrutura condicional para verificar a idade\n",
        "if idade < 18:\n",
        "    print(\"Você é menor de idade.\")\n",
        "elif 18 <= idade < 65:\n",
        "    print(\"Você é um adulto.\")\n",
        "else:\n",
        "    print(\"Você é melhor idade.\")\n"
      ]
    },
    {
      "cell_type": "markdown",
      "metadata": {
        "id": "v3Rz3gvubAva"
      },
      "source": [
        "**Estrutura Simples**\n",
        "\n",
        "\n",
        "\n",
        "```\n",
        "idade = int(input(\"Digite a sua idade: \"))\n",
        "\n",
        "if idade >= 18:\n",
        "    print(\"Você é maior de idade.\")\n",
        "\n",
        "```\n",
        "\n"
      ]
    },
    {
      "cell_type": "markdown",
      "metadata": {
        "id": "MnChxIP-alEf"
      },
      "source": [
        "**Estrutura Condicional - Composta**\n",
        "\n",
        "\n",
        "```\n",
        "idade = int(input(\"Digite a sua idade: \"))\n",
        "\n",
        "if idade >= 18:\n",
        "    print(\"Você é maior de idade.\")\n",
        "else:\n",
        "    print(\"Você é menor de idade.\")\n",
        "\n",
        "```"
      ]
    },
    {
      "cell_type": "markdown",
      "metadata": {
        "id": "BsfI6cdfbwef"
      },
      "source": [
        "**Estrutura Aninhada**\n",
        "\n",
        "\n",
        "\n",
        "```\n",
        "# Declaração das variáveis\n",
        "\n",
        "idade = int(input(\"Digite a sua idade: \"))\n",
        "tem_habilitacao = True\n",
        "\n",
        "if idade >= 18:\n",
        "    if tem_habilitacao:\n",
        "        print(\"Você pode dirigir.\")\n",
        "    else:\n",
        "        print(\"Você não pode dirigir.\")\n",
        "else:\n",
        "    print(\"Você é menor de idade.\")\n",
        "\n",
        "```"
      ]
    },
    {
      "cell_type": "markdown",
      "metadata": {
        "id": "2sPTPsnlg1aH"
      },
      "source": [
        "**Bibliotecas**\n",
        "\n",
        "Saiba mais **negrito**\n",
        "\n",
        "* [Biblioteca Math](https://docs.python.org/3/library/math.html)\n",
        "\n",
        "* [Biblioteca Random](https://docs.python.org/3/library/random.html)\n",
        "\n",
        "* [Biblioteca Datetime](https://docs.python.org/3/library/datetime.html)\n",
        "\n",
        "```\n",
        "import math\n",
        "import random\n",
        "import datetime\n",
        "```\n"
      ]
    },
    {
      "cell_type": "markdown",
      "metadata": {
        "id": "VSmOGKcMhBTM"
      },
      "source": [
        "##### Exemplo de uso:     "
      ]
    },
    {
      "cell_type": "code",
      "execution_count": null,
      "metadata": {
        "id": "F7NlKwUngjF0"
      },
      "outputs": [],
      "source": [
        "import math"
      ]
    },
    {
      "cell_type": "code",
      "execution_count": null,
      "metadata": {
        "colab": {
          "base_uri": "https://localhost:8080/"
        },
        "id": "-7qHMPVjgoD3",
        "outputId": "74eb65c8-6c5e-413a-efac-2a0a6c1ad496"
      },
      "outputs": [
        {
          "name": "stdout",
          "output_type": "stream",
          "text": [
            "9.0\n"
          ]
        }
      ],
      "source": [
        "raiz = math.sqrt(81)\n",
        "print(raiz)"
      ]
    },
    {
      "cell_type": "code",
      "execution_count": null,
      "metadata": {
        "colab": {
          "base_uri": "https://localhost:8080/"
        },
        "id": "raLtHBk8hLWV",
        "outputId": "a1ec967b-56a0-4312-8525-8fc2508b6378"
      },
      "outputs": [
        {
          "name": "stdout",
          "output_type": "stream",
          "text": [
            "4.0\n",
            "3.141592653589793\n"
          ]
        }
      ],
      "source": [
        "print(math.sqrt(16))\n",
        "print(math.pi)"
      ]
    },
    {
      "cell_type": "code",
      "execution_count": null,
      "metadata": {
        "id": "8AKuEnlRllZ5"
      },
      "outputs": [],
      "source": [
        "import random"
      ]
    },
    {
      "cell_type": "code",
      "execution_count": null,
      "metadata": {
        "colab": {
          "base_uri": "https://localhost:8080/"
        },
        "id": "wcfu9OpPl5a6",
        "outputId": "3f81e0ac-06f3-42c5-9706-aec826e21c36"
      },
      "outputs": [
        {
          "name": "stdout",
          "output_type": "stream",
          "text": [
            "701\n"
          ]
        }
      ],
      "source": [
        "print(random.randint(1, 900))"
      ]
    },
    {
      "cell_type": "code",
      "execution_count": null,
      "metadata": {
        "colab": {
          "base_uri": "https://localhost:8080/"
        },
        "id": "tHuyyzI7mC6q",
        "outputId": "24fb57f4-d609-4608-9cde-efc4eadca05d"
      },
      "outputs": [
        {
          "name": "stdout",
          "output_type": "stream",
          "text": [
            "cereja\n"
          ]
        }
      ],
      "source": [
        "print(random.choice(['maçã', 'mamão', 'uva', 'cereja']))"
      ]
    },
    {
      "cell_type": "code",
      "execution_count": null,
      "metadata": {
        "colab": {
          "base_uri": "https://localhost:8080/"
        },
        "id": "lvfoGlD-hb-G",
        "outputId": "818b1280-3eb2-4c6b-dfc2-100c751895bd"
      },
      "outputs": [
        {
          "name": "stdout",
          "output_type": "stream",
          "text": [
            "8\n",
            "mamão\n"
          ]
        }
      ],
      "source": [
        "print(random.randint(1, 10))\n",
        "print(random.choice(['maçã', 'mamão', 'uva', 'cereja']))"
      ]
    },
    {
      "cell_type": "code",
      "execution_count": 27,
      "metadata": {
        "id": "XHWTR3D6r4yn"
      },
      "outputs": [],
      "source": [
        "from datetime import datetime"
      ]
    },
    {
      "cell_type": "code",
      "execution_count": null,
      "metadata": {
        "id": "OSrei2dZs3w0"
      },
      "outputs": [],
      "source": [
        "datetime.now"
      ]
    },
    {
      "cell_type": "code",
      "execution_count": 30,
      "metadata": {
        "colab": {
          "base_uri": "https://localhost:8080/"
        },
        "id": "UGEjrcF7r7K2",
        "outputId": "5ea30dc0-b955-4e2a-c273-13c220e33b2b"
      },
      "outputs": [
        {
          "data": {
            "text/plain": [
              "<attribute 'day' of 'datetime.date' objects>"
            ]
          },
          "execution_count": 30,
          "metadata": {},
          "output_type": "execute_result"
        }
      ],
      "source": [
        "datetime.day"
      ]
    },
    {
      "cell_type": "code",
      "execution_count": 31,
      "metadata": {
        "colab": {
          "base_uri": "https://localhost:8080/"
        },
        "id": "rvFCUou6sUPm",
        "outputId": "953c95a6-1e04-48e6-9b87-f8296f9febc2"
      },
      "outputs": [
        {
          "data": {
            "text/plain": [
              "datetime.datetime(2024, 6, 11, 0, 27, 32, 794182)"
            ]
          },
          "execution_count": 31,
          "metadata": {},
          "output_type": "execute_result"
        }
      ],
      "source": [
        "datetime.now()"
      ]
    },
    {
      "cell_type": "code",
      "execution_count": 32,
      "metadata": {
        "colab": {
          "base_uri": "https://localhost:8080/"
        },
        "id": "Jny0Lhffh17S",
        "outputId": "654c8c00-62d3-4e4f-baba-9e3688f5ca01"
      },
      "outputs": [
        {
          "name": "stdout",
          "output_type": "stream",
          "text": [
            "2024-06-11 00:28:59.307377\n"
          ]
        }
      ],
      "source": [
        "agora = datetime.now()\n",
        "print(agora)\n"
      ]
    },
    {
      "cell_type": "markdown",
      "metadata": {
        "id": "JDcMZrDikV1I"
      },
      "source": [
        "1) Vamos calcular a área de um círculo usando a biblioteca do math considerando fórmula:\n",
        "\n",
        "area = pi * (raio * raio)\n",
        "\n",
        "O valor deve ter duas casas decimais.\n"
      ]
    },
    {
      "cell_type": "code",
      "execution_count": 39,
      "metadata": {
        "colab": {
          "base_uri": "https://localhost:8080/"
        },
        "id": "orRotglMwIIn",
        "outputId": "ba2b304d-b1e7-4c7d-acfa-335ce2920f20"
      },
      "outputs": [
        {
          "name": "stdout",
          "output_type": "stream",
          "text": [
            "Digite o valor do raio: 10\n",
            "314.1592653589793\n",
            "A área de um círculo com raio 10 é 314.16\n"
          ]
        }
      ],
      "source": [
        "import math\n",
        "\n",
        "# Ler o valor do raio\n",
        "raio = int(input('Digite o valor do raio: '))\n",
        "\n",
        "# Cálculo da área\n",
        "area = math.pi * math.pow(raio, 2)\n",
        "print(area)\n",
        "\n",
        "print(f\"A área de um círculo com raio {raio} é {area:.2f}\")"
      ]
    },
    {
      "cell_type": "code",
      "execution_count": null,
      "metadata": {
        "id": "GYbSTAq3kaIx"
      },
      "outputs": [],
      "source": [
        "import math\n",
        "\n",
        "# Ler o valor do raio\n",
        "raio = 5\n",
        "\n",
        "# Cálculo da área\n",
        "area = math.pi * math.pow(raio, 2)\n",
        "\n",
        "# Exibição do resultado\n",
        "print(f\"A área de um círculo com raio {raio} é {area:.2f}\")\n"
      ]
    },
    {
      "cell_type": "code",
      "execution_count": 42,
      "metadata": {
        "colab": {
          "base_uri": "https://localhost:8080/"
        },
        "id": "OBMqqt1wos3n",
        "outputId": "ea647faf-db57-4ebe-8f75-a4c1cb49a6dd"
      },
      "outputs": [
        {
          "name": "stdout",
          "output_type": "stream",
          "text": [
            "O número sorteado é 15\n"
          ]
        }
      ],
      "source": [
        "import random\n",
        "\n",
        "numero_sorteado = random.randint(1, 60)\n",
        "\n",
        "print(f\"O número sorteado é {numero_sorteado}\")\n"
      ]
    },
    {
      "cell_type": "code",
      "execution_count": 33,
      "metadata": {
        "colab": {
          "base_uri": "https://localhost:8080/"
        },
        "id": "fDVDiz-qo1SS",
        "outputId": "2c2138dc-d0a0-460f-ccac-dd5ed5aa367b"
      },
      "outputs": [
        {
          "name": "stdout",
          "output_type": "stream",
          "text": [
            "A data e hora atual é 2024-06-11 00:40:25.536797\n"
          ]
        }
      ],
      "source": [
        "from datetime import datetime\n",
        "\n",
        "data_hora_atual = datetime.now()\n",
        "\n",
        "print(f\"A data e hora atual é {data_hora_atual}\")\n"
      ]
    },
    {
      "cell_type": "markdown",
      "metadata": {
        "id": "OdumN7aoo9rz"
      },
      "source": [
        "**Atividades em grupo**"
      ]
    },
    {
      "cell_type": "markdown",
      "metadata": {
        "id": "84sjaSRLpNv7"
      },
      "source": [
        "Pode elaborar um programa que utilize a biblioteca random de forma que seja lançado um dado e seja apresentado o valor com a mensagem: \"O dado apresentou o número: \""
      ]
    },
    {
      "cell_type": "code",
      "execution_count": 51,
      "metadata": {
        "colab": {
          "base_uri": "https://localhost:8080/"
        },
        "id": "dqv4uzgWpLs1",
        "outputId": "51ffaf2b-c540-4760-ebb1-ff08697e49f2"
      },
      "outputs": [
        {
          "name": "stdout",
          "output_type": "stream",
          "text": [
            "O dado apresentou o número 2\n"
          ]
        }
      ],
      "source": [
        "import random\n",
        "\n",
        "# Utilizar o random aqui\n",
        "dado = random.randint(1,100)\n",
        "\n",
        "# Apresente o resultado\n",
        "print(f\"O dado apresentou o número {dado}\")\n"
      ]
    },
    {
      "cell_type": "markdown",
      "metadata": {
        "id": "LJL33DZTpyc1"
      },
      "source": [
        "2) Elabore um programa que utilize a biblioteca datetime e apresente uma mensagem de lembrete que deve ser retirado o resultado de um exame 7 dias após a data de leitura da data atual."
      ]
    },
    {
      "cell_type": "code",
      "execution_count": 53,
      "metadata": {
        "id": "cBQ7tYCBy5Wb"
      },
      "outputs": [],
      "source": [
        "from datetime import timedelta"
      ]
    },
    {
      "cell_type": "code",
      "execution_count": 56,
      "metadata": {
        "colab": {
          "base_uri": "https://localhost:8080/"
        },
        "id": "A10Le3PTy_vA",
        "outputId": "4e5a058d-3e24-4087-b886-6348e5a6fef0"
      },
      "outputs": [
        {
          "name": "stdout",
          "output_type": "stream",
          "text": [
            "4 days, 0:00:00\n"
          ]
        }
      ],
      "source": [
        "dois_dias = timedelta(days=4)\n",
        "print(dois_dias)"
      ]
    },
    {
      "cell_type": "code",
      "execution_count": 57,
      "metadata": {
        "colab": {
          "base_uri": "https://localhost:8080/"
        },
        "id": "eh8VxMfTpzzN",
        "outputId": "22174a3f-a368-43c4-dcb9-92d21f7d9408"
      },
      "outputs": [
        {
          "name": "stdout",
          "output_type": "stream",
          "text": [
            "2024-06-11 01:02:37.261170\n",
            "Daqui a 7 dias será 2024-06-18 01:02:37.261170\n"
          ]
        }
      ],
      "source": [
        "from datetime import datetime, timedelta\n",
        "\n",
        "agora = datetime.now()\n",
        "print(agora)\n",
        "\n",
        "proxima_semana = agora + timedelta(days=7)\n",
        "\n",
        "# Exibição do resultado\n",
        "print(f\"Daqui a 7 dias será {proxima_semana}\")\n"
      ]
    },
    {
      "cell_type": "markdown",
      "metadata": {
        "id": "nVcTyfbVq1AF"
      },
      "source": [
        "**Conversão de string para datetime**\n",
        "\n",
        "**Uso do strptime**"
      ]
    },
    {
      "cell_type": "code",
      "execution_count": null,
      "metadata": {
        "colab": {
          "base_uri": "https://localhost:8080/"
        },
        "id": "C3g-FDSdq53J",
        "outputId": "10885b65-14ed-496d-97b8-a951a8fd8441"
      },
      "outputs": [
        {
          "name": "stdout",
          "output_type": "stream",
          "text": [
            "A data convertida é 2024-06-10 19:30:00\n"
          ]
        }
      ],
      "source": [
        "from datetime import datetime\n",
        "\n",
        "data_string = \"2024-06-10 19:30:00\"\n",
        "data_obj = datetime.strptime(data_string, \"%Y-%m-%d\")\n",
        "\n",
        "print(f\"A data convertida é {data_obj}\")\n"
      ]
    },
    {
      "cell_type": "markdown",
      "metadata": {
        "id": "-AqGcZj_seY0"
      },
      "source": [
        "**Formatar datas**"
      ]
    },
    {
      "cell_type": "code",
      "execution_count": null,
      "metadata": {
        "id": "J6Z8bsDUsdNT"
      },
      "outputs": [],
      "source": [
        "from datetime import datetime\n",
        "\n",
        "agora = datetime.now()\n",
        "\n",
        "print(agora.strftime(\"%d/%m/%Y\"))\n",
        "print(agora.strftime(\"%A, %d de %B de %Y\"))\n",
        "print(agora.strftime(\"%I:%M %p\"))\n"
      ]
    },
    {
      "cell_type": "markdown",
      "metadata": {
        "id": "qudxo8dKrw1A"
      },
      "source": [
        "**Uso do choice na biblioteca random**"
      ]
    },
    {
      "cell_type": "code",
      "execution_count": null,
      "metadata": {
        "id": "9cSZwODQr3P6"
      },
      "outputs": [],
      "source": [
        "import random\n",
        "\n",
        "frutas = ['maçã', 'mamão', 'uva', 'cereja']\n",
        "\n",
        "fruta_aleatoria = random.choice(frutas)\n",
        "\n",
        "print(f\"A fruta escolhida aleatoriamente é {fruta_aleatoria}\")\n"
      ]
    },
    {
      "cell_type": "markdown",
      "metadata": {
        "id": "dMZcQA7qsEIh"
      },
      "source": [
        "**Uso do shuffle na biblioteca random**"
      ]
    },
    {
      "cell_type": "code",
      "execution_count": null,
      "metadata": {
        "id": "s7Ykcz1QsJOZ"
      },
      "outputs": [],
      "source": [
        "import random\n",
        "\n",
        "cartas = ['Ás', 'Rei', 'Rainha', 'Valete', '9', '8']\n",
        "\n",
        "random.shuffle(cartas)\n",
        "\n",
        "print(f\"A ordem das cartas embaralhadas é {cartas}\")\n"
      ]
    },
    {
      "cell_type": "markdown",
      "metadata": {
        "id": "eSGuVF061o_S"
      },
      "source": [
        "ATIVIDADE PARA ENTREGA - 16/06/2024"
      ]
    },
    {
      "cell_type": "markdown",
      "metadata": {
        "id": "r-7p79aFs7BY"
      },
      "source": [
        "1) Faça um programa incluindo o nome dos integrantes do seu grupo numa lista e realize o sorteio e posteriormente embaralhe os nomes e apresente o resultado."
      ]
    },
    {
      "cell_type": "code",
      "execution_count": 18,
      "metadata": {
        "id": "06I5rbPas5qq"
      },
      "outputs": [
        {
          "name": "stdout",
          "output_type": "stream",
          "text": [
            "O aluno que vai fazer tudo é Telma\n",
            "A ordem embaralhada dos alunos é ['Erick Gabriel', 'Telma', 'Antonio David', 'Ana BIAtriz']\n"
          ]
        }
      ],
      "source": [
        "import random\n",
        "\n",
        "alunos = ['Ana BIAtriz', 'Antonio David', 'Erick Gabriel', 'Telma']\n",
        "\n",
        "aluno_sorteado = random.choice(alunos)\n",
        "print(f\"O aluno que vai fazer tudo é {aluno_sorteado}\")\n",
        "\n",
        "#inclua a função para embaralhar os alunos\n",
        "alunos_embaralhados = alunos\n",
        "random.shuffle(alunos_embaralhados)\n",
        "\n",
        "print(f\"A ordem embaralhada dos alunos é {alunos_embaralhados}\")\n"
      ]
    },
    {
      "cell_type": "markdown",
      "metadata": {
        "id": "mi05aiBRuBEP"
      },
      "source": [
        "2) Pode elaborar um programa para verificar se a data atual é um dia útil (segunda a sexta-feira) ou um fim de semana (sábado ou domingo)?"
      ]
    },
    {
      "cell_type": "code",
      "execution_count": 41,
      "metadata": {},
      "outputs": [
        {
          "name": "stdout",
          "output_type": "stream",
          "text": [
            "A data 13/06/2024 é um dia útil\n"
          ]
        }
      ],
      "source": [
        "import datetime as dt\n",
        "\n",
        "\n",
        "def verificar_dia_util():\n",
        "    data = dt.datetime.now()\n",
        "    dia_da_semana = data.weekday()\n",
        "    data = data.strftime(\"%d/%m/%Y\") \n",
        "    if dia_da_semana < 5:\n",
        "        print(f\"A data {data} é um dia útil\")\n",
        "    else:\n",
        "        print(f\"A data {data}final de semana\")\n",
        "\n",
        "\n",
        "if __name__ == \"__main__\":\n",
        "    verificar_dia_util()"
      ]
    },
    {
      "cell_type": "markdown",
      "metadata": {
        "id": "ooePA8SQvgCU"
      },
      "source": [
        "3) Pode elaborar um programa que simule o lançamento de dois dados e verifique se a soma dos números é par ou ímpar?"
      ]
    },
    {
      "cell_type": "code",
      "execution_count": 45,
      "metadata": {},
      "outputs": [
        {
          "name": "stdout",
          "output_type": "stream",
          "text": [
            "O número é par\n"
          ]
        }
      ],
      "source": [
        "def verificar_paridade():\n",
        "    num = int(input(\"Digite um número: \"))\n",
        "    if (num & 1 == 0):\n",
        "        return \"par\"\n",
        "    else:\n",
        "        return \"ímpar\"\n",
        "    \n",
        "\n",
        "if __name__ == \"__main__\":\n",
        "    print(f\"O número é {verificar_paridade()}\")"
      ]
    }
  ],
  "metadata": {
    "colab": {
      "provenance": []
    },
    "kernelspec": {
      "display_name": "Python 3",
      "name": "python3"
    },
    "language_info": {
      "codemirror_mode": {
        "name": "ipython",
        "version": 3
      },
      "file_extension": ".py",
      "mimetype": "text/x-python",
      "name": "python",
      "nbconvert_exporter": "python",
      "pygments_lexer": "ipython3",
      "version": "3.12.0"
    }
  },
  "nbformat": 4,
  "nbformat_minor": 0
}
